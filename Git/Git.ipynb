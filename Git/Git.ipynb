{
 "cells": [
  {
   "cell_type": "markdown",
   "metadata": {},
   "source": [
    "# Introduction to Git and GitHub\n",
    "Link to the course: [title](https://www.coursera.org/learn/introduction-git-github)"
   ]
  },
  {
   "cell_type": "markdown",
   "metadata": {},
   "source": [
    "## Why we use version controls?\n",
    "Version control, keeping historical copies. These copies let you see what the project was like before, and go back to that version if you end up deciding that the latest changes were wrong. They also let you see the progress of the changes over time, and maybe even help you understand why a change was made.\n",
    "It lets us keep track of the changes in our files. These files can be code, images, configuration, or even a video editing project, whatever it is you're working with."
   ]
  },
  {
   "cell_type": "markdown",
   "metadata": {},
   "source": [
    "## Check difference of two files\n",
    "The diff tool shows all the differences between any type of file. By highlighting what’s changed, it helps us understand the changes and see how the files have been modified."
   ]
  },
  {
   "cell_type": "markdown",
   "metadata": {},
   "source": [
    "## What does the patch command do?\n",
    "While diff is the command that generates the difference between two files, patch is the command that applies those differences to the original file."
   ]
  },
  {
   "cell_type": "markdown",
   "metadata": {},
   "source": [
    "## Install git\n",
    "git --version"
   ]
  },
  {
   "cell_type": "markdown",
   "metadata": {},
   "source": [
    "\n",
    "\n",
    "The git directory contains all the changes and their history and the working tree contains the current versions of the files."
   ]
  },
  {
   "cell_type": "markdown",
   "metadata": {},
   "source": [
    "## Create git in repository\n",
    "git --init"
   ]
  },
  {
   "cell_type": "markdown",
   "metadata": {},
   "source": [
    "## Add  file to the staging area\n",
    "git add file_name.py"
   ]
  },
  {
   "cell_type": "markdown",
   "metadata": {},
   "source": [
    "## The staging area \n",
    "The staging area which is also known as the index is a file maintained by Git that contains all of the information about what files and changes are going to go into your next command. "
   ]
  },
  {
   "cell_type": "markdown",
   "metadata": {},
   "source": [
    "## Information about the current working tree and pending changes\n",
    "git status"
   ]
  },
  {
   "cell_type": "markdown",
   "metadata": {},
   "source": [
    "## Commit modifations\n",
    "git commit -m ' commit message'"
   ]
  },
  {
   "cell_type": "markdown",
   "metadata": {},
   "source": [
    "## Commit message\n",
    "A commit message is generally broken up into a few sections. The first line is a short summary of the commit followed by a blank line. This is followed by a full description of the changes which details why they're necessary and anything that might be especially interesting about them or difficult to understand. When you run the git commit command, Git will open up a text editor of your choice so you can write your commit message."
   ]
  },
  {
   "cell_type": "markdown",
   "metadata": {},
   "source": [
    "## We can skip the staging step and go directly to the commit\n",
    "git commit -a -m 'commit message'"
   ]
  },
  {
   "cell_type": "markdown",
   "metadata": {},
   "source": [
    "## What is git Head?\n",
    "Git uses the head alias to represent the currently checked out snapshot of your project"
   ]
  },
  {
   "cell_type": "markdown",
   "metadata": {},
   "source": [
    "## Log of commits\n",
    "git log\n",
    "\n",
    "git log shows us the list of commits made in the current Git repository. By default, it prints the commit message, the author, and the date of the change.\n",
    "We'll probably also need to look at the actual lines that changed in each commit. To do this with git log, we can use the -p flag. The p comes from patch, because using this flag gives us the patch that was created.\n",
    "\n",
    "git log -p\n"
   ]
  },
  {
   "cell_type": "markdown",
   "metadata": {},
   "source": [
    "## If we want to see a specific commit, which command would we use along with the commit ID?\n",
    "git show commit-ID"
   ]
  },
  {
   "cell_type": "markdown",
   "metadata": {},
   "source": [
    "## Changes since last commit\n",
    "git diff\n",
    "\n",
    "By default git diff will show you any uncommitted changes since the last commit."
   ]
  },
  {
   "cell_type": "markdown",
   "metadata": {},
   "source": [
    "## Remove files from your repository\n",
    "git rm"
   ]
  },
  {
   "cell_type": "markdown",
   "metadata": {},
   "source": [
    "## Rename file in your repository\n",
    "git mv"
   ]
  },
  {
   "cell_type": "markdown",
   "metadata": {},
   "source": [
    "##  Have a list of untracked files:\n",
    "If we have a long list of untracked files, we might lose an important change in the noise. If there are files that get automatically generated by our scripts, or our operating system generates artifacts that we don't want in our repo, we'll want to ignore them so that they don't add noise to the output of git status. To do this, we can use the gitignore file and track it in our repository.\n",
    "\n",
    "gitignore file is a file containing a list of files or filename patterns for Git to skip for the current repo."
   ]
  },
  {
   "cell_type": "markdown",
   "metadata": {},
   "source": [
    "## Revers changes:\n",
    "git checkout\n",
    "\n",
    "git checkout restores files to the latest stored snapshot, reverting any changes before staging."
   ]
  },
  {
   "cell_type": "markdown",
   "metadata": {},
   "source": [
    "## Modify and add changes to the most recent commit\n",
    "git commit --amend"
   ]
  },
  {
   "cell_type": "markdown",
   "metadata": {},
   "source": [
    "## Revert commit:\n",
    "git revert\n",
    "\n",
    "git revert, a new commit is created with inverse changes. This cancels previous changes instead of making it as though the original commit never happened."
   ]
  },
  {
   "cell_type": "markdown",
   "metadata": {},
   "source": [
    "## What is branch:\n",
    "In Git, a branch at the most basic level is just a pointer to a particular commit. But more importantly, it represents an independent line of development in a project.\n",
    "The default branch that Git creates for you when a new repository initialized is called master.\n",
    "By creating a new branch, we can experiment without breaking what already works"
   ]
  },
  {
   "cell_type": "markdown",
   "metadata": {},
   "source": [
    "## Show you a list of all the branches in your repository\n",
    "git branch"
   ]
  },
  {
   "cell_type": "markdown",
   "metadata": {},
   "source": [
    "## Create new branch\n",
    "git branch new-branch-name"
   ]
  },
  {
   "cell_type": "markdown",
   "metadata": {},
   "source": [
    "## Switch branches\n",
    "git checkout -b new-branch-name\n",
    "\n",
    "this command create new branch and checkout to it. \n",
    "\n",
    "we use git checkout to check out the latest snapshot for both files and for branches.\n",
    "\n",
    "How does git checkout switch branches?\n",
    "The HEAD is moved to the relevant commit on the specified branch."
   ]
  },
  {
   "cell_type": "markdown",
   "metadata": {},
   "source": [
    "## Delete the branch\n",
    "git branch -d branch-name"
   ]
  },
  {
   "cell_type": "markdown",
   "metadata": {},
   "source": [
    "## Merging?\n",
    "Merging is the term that Git uses for combining branch data and history together.\n",
    "\n",
    "git merge branch-name\n",
    "    "
   ]
  },
  {
   "cell_type": "markdown",
   "metadata": {},
   "source": [
    "## Create a local copy of the repository\n",
    "git clone URL-of-the-repo"
   ]
  },
  {
   "cell_type": "markdown",
   "metadata": {},
   "source": [
    "## Create a local copy of the repository\n",
    "git push"
   ]
  },
  {
   "cell_type": "markdown",
   "metadata": {},
   "source": [
    "## Create a local copy of the repository\n",
    "git pull"
   ]
  },
  {
   "cell_type": "markdown",
   "metadata": {},
   "source": [
    "## Lists remote repos\n",
    "git remote "
   ]
  },
  {
   "cell_type": "markdown",
   "metadata": {},
   "source": [
    "## List remote repos verbosely\n",
    "git remote -v"
   ]
  },
  {
   "cell_type": "markdown",
   "metadata": {},
   "source": [
    "## Describes a single remote repo\n",
    "git remote show <name>"
   ]
  },
  {
   "cell_type": "markdown",
   "metadata": {},
   "source": [
    "## Fetches the most up-to-date objects\n",
    "git remote update"
   ]
  },
  {
   "cell_type": "markdown",
   "metadata": {},
   "source": [
    "## Downloads specific objects\n",
    "git fetch"
   ]
  },
  {
   "cell_type": "markdown",
   "metadata": {},
   "source": [
    "## Lists remote branches\n",
    "can be combined with other branch arguments to manage remote branches.\n",
    "git branch -r"
   ]
  },
  {
   "cell_type": "markdown",
   "metadata": {},
   "source": [
    "## What exactly is a fork? \n",
    "\n",
    "Forking is a way of creating a copy of the given repository so that it belongs to our user."
   ]
  },
  {
   "cell_type": "markdown",
   "metadata": {},
   "source": [
    "## What exactly is a pull request?\n",
    "\n",
    "A pull request is a commit or series of commits that you send to the owner of the repository so that they incorporate it into their tree.\n",
    "\n",
    "Check out the following link for more information:\n",
    "\n",
    "https://help.github.com/en/articles/about-pull-request-merges"
   ]
  }
 ],
 "metadata": {
  "kernelspec": {
   "display_name": "Python 3",
   "language": "python",
   "name": "python3"
  },
  "language_info": {
   "codemirror_mode": {
    "name": "ipython",
    "version": 3
   },
   "file_extension": ".py",
   "mimetype": "text/x-python",
   "name": "python",
   "nbconvert_exporter": "python",
   "pygments_lexer": "ipython3",
   "version": "3.8.3"
  }
 },
 "nbformat": 4,
 "nbformat_minor": 4
}
