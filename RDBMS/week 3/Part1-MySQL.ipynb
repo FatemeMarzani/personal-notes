{
 "cells": [
  {
   "cell_type": "markdown",
   "id": "a3653a2a",
   "metadata": {},
   "source": [
    "# Introduction to Relational Databases (RDBMS)\n",
    "Link to the course: [https://www.coursera.org/learn/introduction-to-relational-databases](https://www.coursera.org/learn/introduction-to-relational-databases)\n",
    "# Week 3 - MySQL"
   ]
  },
  {
   "cell_type": "markdown",
   "id": "ef6af5b7",
   "metadata": {},
   "source": [
    "MySQL is a free, open-source RDMS that you can download and install on your own systems or access on the Cloud. You can either self-manage a Cloud instance of MySQL or use a managed services provider, including IBM Cloud, Amazon RDS for MySQL, Azure Database for MySQL, or Google Cloud SQL for MySQL.\n",
    "\n",
    "MySQL includes several options for creating databases and tables, loading and querying data, and importing and exporting data relational databases:\n",
    "\n",
    "- mysql and mysqladmin command line interfaces. You use these CLIs to run SQL statements.\n",
    "\n",
    "- MySQL Workbench. A desktop application for designing, developing, and administering MySQL databases.\n",
    "\n",
    "- phpMyAdmin. An easy to use, third-party web interface for working with MySQL databases.\n",
    "\n",
    "- API calls.\n",
    "\n",
    "Using phpMyAdmin, you can:\n",
    "\n",
    "- Add and modify columns after you create a table.\n",
    "\n",
    "- Use backup and restore functionality to populate databases.\n",
    "\n",
    "- Use import and export functionality to populate tables and save their data to files.\n",
    "\n",
    "- Create primary keys by defining a primary index on one or more columns.\n",
    "\n",
    "- Use autoincrement to automatically generate sequential numeric data in a column.\n",
    "\n",
    "When creating foreign keys, you can define ON DELETE and ON UPDATE actions.\n",
    "\n",
    "MySQL columns are **NOT NULL** by default.\n",
    "\n",
    "You can configure a column to only accept unique values."
   ]
  },
  {
   "cell_type": "code",
   "execution_count": null,
   "id": "bbbf7af4",
   "metadata": {},
   "outputs": [],
   "source": []
  }
 ],
 "metadata": {
  "kernelspec": {
   "display_name": "Python 3",
   "language": "python",
   "name": "python3"
  },
  "language_info": {
   "codemirror_mode": {
    "name": "ipython",
    "version": 3
   },
   "file_extension": ".py",
   "mimetype": "text/x-python",
   "name": "python",
   "nbconvert_exporter": "python",
   "pygments_lexer": "ipython3",
   "version": "3.8.0"
  }
 },
 "nbformat": 4,
 "nbformat_minor": 5
}
