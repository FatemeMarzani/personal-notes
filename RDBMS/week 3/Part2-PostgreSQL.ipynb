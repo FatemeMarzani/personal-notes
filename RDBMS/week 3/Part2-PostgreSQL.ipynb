{
 "cells": [
  {
   "cell_type": "markdown",
   "id": "b627d4f0",
   "metadata": {},
   "source": [
    "# Introduction to Relational Databases (RDBMS)\n",
    "Link to the course: [https://www.coursera.org/learn/introduction-to-relational-databases](https://www.coursera.org/learn/introduction-to-relational-databases)\n",
    "# Week 3 - PostgreSQL"
   ]
  },
  {
   "cell_type": "markdown",
   "id": "d1df0d27",
   "metadata": {},
   "source": [
    "PostgreSQL is an open-source object-relational database management system that you can download and install on your own systems or access on the Cloud.\n",
    "\n",
    "You can either self-manage a Cloud instance of PostgreSQL or use a managed services provider, including IBM Cloud Databases for PostgreSQL, Amazon RDS, Google Cloud SQL for PostgreSQL, EnterpriseDB cloud, or Microsoft Azure for PostgreSQL.\n",
    "\n",
    "PostgreSQL includes several options for creating databases and tables, loading and querying data, and importing and exporting data relational databases:\n",
    "\n",
    "The psql command line interface. You use this CLI to run SQL statements.\n",
    "\n",
    "- pgAdmin. A graphical interface to the database server, which is available as a desktop application or as a web application that you can install on your web servers.\n",
    "\n",
    "- Navicat and Dbeaver. Commercial graphical interface options that you can use to access PostgresSQL, MySQL, and other types of databases.\n",
    "\n",
    "- Cloud vendor tools and APIs.\n",
    "\n",
    "Using pgAdmin, you can:\n",
    "\n",
    "- Use pg_dump to back up databases and psql to restore them.\n",
    "\n",
    "- Use the Import/Export tool to load data into and export data from tables.\n",
    "\n",
    "Using views:\n",
    "\n",
    "- You can use views to limit access to sensitive data and simplify data retrieval.\n",
    "\n",
    "- Views can be materialized, which means that the view store the result set for quicker subsequent access. \n",
    "\n",
    "- Materialized views enhance performance because the view is saved and often stored in memory. However, you cannot insert, update, or delete rows in a materialized view, and they must be refreshed before you can see updated data."
   ]
  }
 ],
 "metadata": {
  "kernelspec": {
   "display_name": "Python 3",
   "language": "python",
   "name": "python3"
  },
  "language_info": {
   "codemirror_mode": {
    "name": "ipython",
    "version": 3
   },
   "file_extension": ".py",
   "mimetype": "text/x-python",
   "name": "python",
   "nbconvert_exporter": "python",
   "pygments_lexer": "ipython3",
   "version": "3.8.0"
  }
 },
 "nbformat": 4,
 "nbformat_minor": 5
}
