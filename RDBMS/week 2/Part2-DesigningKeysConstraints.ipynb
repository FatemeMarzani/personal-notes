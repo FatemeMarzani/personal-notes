{
 "cells": [
  {
   "cell_type": "markdown",
   "id": "bc74f360",
   "metadata": {},
   "source": [
    "# Introduction to Relational Databases (RDBMS)\n",
    "Link to the course: [https://www.coursera.org/learn/introduction-to-relational-databases](https://www.coursera.org/learn/introduction-to-relational-databases)\n",
    "# Week 2 - Designing Keys, Indexes, and Constraints"
   ]
  },
  {
   "cell_type": "markdown",
   "id": "8090144b",
   "metadata": {},
   "source": [
    "## Database Objects & Hierarchy (Including Schemas)\n",
    "- **Instances** This is a logical boundary for a database or set of databases where you organize and isolate database objects and set configuration parameters. \n",
    "\n",
    "- **Relational databases** This is a set of objects used to store, manage, and access data.\n",
    "\n",
    "- **Schemas** A user or system schema is a logical grouping of tables, views, nicknames, triggers, functions, packages, and other database objects. Schemas provide naming contexts so that you can distinguish between objects with the same name.\n",
    "\n",
    "- **Database partitions** You can split very large tables across multiple partitions to improve performance. \n",
    "\n",
    "- **Database objects** Database objects are the items that exist within the database, such as tables, constraints, indexes, views, and aliases."
   ]
  },
  {
   "cell_type": "markdown",
   "id": "cc6ed822",
   "metadata": {},
   "source": [
    "## Primary key and Foreign Keys \n",
    "\n",
    "- Primary keys enforce uniqueness of rows in a table, whereas Foreign keys are columns in a table that contain the same information as the primary key in another table.\n",
    "\n",
    "- You can use primary and foreign keys to create relationships between tables. Relationships between tables reduce redundant data and improve data integrity. \n",
    "\n",
    "- Indexes provide ordered pointers to rows in tables and can improve the performance of SELECT queries, but can decrease the performance of INSERT, UPDATE, and DELETE queries."
   ]
  },
  {
   "cell_type": "markdown",
   "id": "9a11d62f",
   "metadata": {},
   "source": [
    "## Normalization\n",
    "**Normalization** reduces redundancy and increases consistency of data. There are two forms of normalization:\n",
    "\n",
    "- **First normal form (1NF)** In this form, the table contains only single values and has no repeating groups.\n",
    "\n",
    "- **Second normal form (2NF)** This form splits data into multiple tables to reduce redundancy"
   ]
  },
  {
   "cell_type": "markdown",
   "id": "c3eed5e7",
   "metadata": {},
   "source": [
    "## relational model constraints:\n",
    "\n",
    "- **Entity integrity constraint** Ensures that the primary key is a unique value that identifies each tuple (or row.)\n",
    "\n",
    "- **Referential integrity constraint** Defines relationships between tables.\n",
    "\n",
    "- **Semantic integrity constraint** Refers to the correctness of the meaning of the data.\n",
    "\n",
    "- **Domain constraint** Specifies the permissible values for a given attribute.\n",
    "\n",
    "- **Null constraint** Specifies that attribute values cannot be null.\n",
    "\n",
    "- **Check constraint** Limits the values that are accepted by an attribute."
   ]
  },
  {
   "cell_type": "code",
   "execution_count": null,
   "id": "e05687e8",
   "metadata": {},
   "outputs": [],
   "source": []
  }
 ],
 "metadata": {
  "kernelspec": {
   "display_name": "Python 3",
   "language": "python",
   "name": "python3"
  },
  "language_info": {
   "codemirror_mode": {
    "name": "ipython",
    "version": 3
   },
   "file_extension": ".py",
   "mimetype": "text/x-python",
   "name": "python",
   "nbconvert_exporter": "python",
   "pygments_lexer": "ipython3",
   "version": "3.8.0"
  }
 },
 "nbformat": 4,
 "nbformat_minor": 5
}
