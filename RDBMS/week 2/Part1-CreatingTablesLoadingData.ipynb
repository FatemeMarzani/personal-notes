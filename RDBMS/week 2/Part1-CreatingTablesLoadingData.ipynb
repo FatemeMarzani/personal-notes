{
 "cells": [
  {
   "cell_type": "markdown",
   "id": "c6076e9f",
   "metadata": {},
   "source": [
    "# Introduction to Relational Databases (RDBMS)\n",
    "Link to the course: [https://www.coursera.org/learn/introduction-to-relational-databases](https://www.coursera.org/learn/introduction-to-relational-databases)\n",
    "# Week 2 - Creating Tables and Loading Data"
   ]
  },
  {
   "cell_type": "markdown",
   "id": "13211c85",
   "metadata": {},
   "source": [
    "## DDL statements\n",
    "DDL statements including CREATE, ALTER, TRUNCATE, and DROP, are used for defining objects like tables in a database.\n",
    "\n",
    "## DML statements\n",
    "DML statements, including INSERT, SELECT, UPDATE, and DELETE, are used for manipulating data in tables."
   ]
  },
  {
   "cell_type": "markdown",
   "id": "6559f5f3",
   "metadata": {},
   "source": [
    "### CREATE TABLE\n",
    "Creates entities (tables) in a relational database and sets the attributes (columns) in a table, including the names of columns, the data types of columns, and constraints (for example, the Primary Key.)\n",
    "\n",
    "### ALTER TABLE\n",
    "Changes the structure of a table by adding or removing columns, modifying the data type of columns, and adding or removing keys and constraints.\n",
    "\n",
    "### DROP TABLE\n",
    "Deletes a table from a database.\n",
    "\n",
    "### TRUNCATE TABLE\n",
    "Removes all rows in a table"
   ]
  },
  {
   "cell_type": "markdown",
   "id": "92904cd2",
   "metadata": {},
   "source": [
    "## Data movment strategies\n",
    "There are utilities that help you to manage the movement of data:\n",
    "\n",
    "1. You use the **BACKUP and RESTORE** utilities to create and recover copies of entire databases, including all objects like tables, views, constraints, and data.\n",
    "\n",
    "2. You use the **IMPORT** utility to insert data into a specific table from different formats, such as DEL/CSV, ASC and IXF, and the **EXPORT** utility to save data from a specific table into various formats, such as CSV.\n",
    "\n",
    "3. You can use the **LOAD** utilities, instead of INSERT statements, to quickly insert large amounts of data a variety of different data sources into tables."
   ]
  }
 ],
 "metadata": {
  "kernelspec": {
   "display_name": "Python 3",
   "language": "python",
   "name": "python3"
  },
  "language_info": {
   "codemirror_mode": {
    "name": "ipython",
    "version": 3
   },
   "file_extension": ".py",
   "mimetype": "text/x-python",
   "name": "python",
   "nbconvert_exporter": "python",
   "pygments_lexer": "ipython3",
   "version": "3.8.0"
  }
 },
 "nbformat": 4,
 "nbformat_minor": 5
}
