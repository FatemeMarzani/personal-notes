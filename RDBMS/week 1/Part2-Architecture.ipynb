{
 "cells": [
  {
   "cell_type": "markdown",
   "id": "137ade4e",
   "metadata": {},
   "source": [
    "# Introduction to Relational Databases (RDBMS)\n",
    "Link to the course: [https://www.coursera.org/learn/introduction-to-relational-databases](https://www.coursera.org/learn/introduction-to-relational-databases)\n",
    "# Week 1 - Introducing Relational Database Products"
   ]
  },
  {
   "cell_type": "markdown",
   "id": "ad0f409c",
   "metadata": {},
   "source": [
    "## There are four types of database topology\n",
    "- **Single tier** The database is installed on a user’s local desktop. \n",
    "\n",
    "- **2-tier** The database resides on a remote server and users access it from client systems. \n",
    "\n",
    "- **3-tier** The database resides on a remote server and users access it through an application server or a middle tier. \n",
    "\n",
    "- **Cloud deployments** The database resides in the cloud, and users access it through an application server layer or another interface that also resides in the cloud."
   ]
  },
  {
   "cell_type": "markdown",
   "id": "1818bccd",
   "metadata": {},
   "source": [
    "## Distributed database architectures\n",
    "### Shared disk\n",
    "In shared disk distributed database architectures, multiple database servers process the workload in parallel, allowing the workload to be processed faster.\n",
    "\n",
    "### Shared nothing\n",
    "There are three shared nothing distributed database architectures:\n",
    "- **Replication** Changes taking place on a database server are replicated to one or more database replicas. In a single location, database replication provides high availability. When database replica is stored in a separate location, it provides a copy of the data for disaster recovery.\n",
    "\n",
    "- **Partitioning** Very large tables are split across multiple logical partitions.\n",
    "\n",
    "- **Sharding** Each partition has its own compute resources.    "
   ]
  },
  {
   "cell_type": "markdown",
   "id": "f2073279",
   "metadata": {},
   "source": [
    "## Three main classes of data users\n",
    "- **Data Scientists** \n",
    "- **Business Analysts**\n",
    "- **Application Developers**"
   ]
  },
  {
   "cell_type": "markdown",
   "id": "d9fef42c",
   "metadata": {},
   "source": [
    "Relational databases are available with **commercial licenses** or **open source**\n",
    "## Open source  databas example:\n",
    "- **MySQ**L is an object-relational database that supports many operating systems, a range of languages for client application development, relational and JSON data, multiple storage engines, and high availability and scalability options.\n",
    "\n",
    "- **PostgreSQL** is an open source, object-relational database that supports a range of languages for client application development, relational, structured, and non-structured data, and **replication** and **partitioning** for high availability and scalability"
   ]
  }
 ],
 "metadata": {
  "kernelspec": {
   "display_name": "Python 3",
   "language": "python",
   "name": "python3"
  },
  "language_info": {
   "codemirror_mode": {
    "name": "ipython",
    "version": 3
   },
   "file_extension": ".py",
   "mimetype": "text/x-python",
   "name": "python",
   "nbconvert_exporter": "python",
   "pygments_lexer": "ipython3",
   "version": "3.8.0"
  }
 },
 "nbformat": 4,
 "nbformat_minor": 5
}
