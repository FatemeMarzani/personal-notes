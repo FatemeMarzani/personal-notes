{
 "cells": [
  {
   "cell_type": "markdown",
   "id": "94aedbda",
   "metadata": {},
   "source": [
    "# Introduction to Relational Databases (RDBMS)\n",
    "Link to the course: [https://www.coursera.org/learn/introduction-to-relational-databases](https://www.coursera.org/learn/introduction-to-relational-databases)\n",
    "# Week 1 - Fundamental Relational Database Concepts"
   ]
  },
  {
   "cell_type": "markdown",
   "id": "f0422dc3",
   "metadata": {},
   "source": [
    "## Why the relational model is the most used data model for databases?\n",
    "The relational model is the most used data model for databases because this model allows for logical data independence, physical data independence, and physical storage independence. "
   ]
  },
  {
   "cell_type": "markdown",
   "id": "99bef7f3",
   "metadata": {},
   "source": [
    "## Entities VS. Attributes\n",
    "Entities are objects that exist independently of any other entities in the database, while attributes are the data elements that characterize the entity.\n",
    "\n",
    "When translating an Entity-Relationship Diagram to a relational database table, the entity becomes the table and the attributes become columns in the table."
   ]
  },
  {
   "cell_type": "markdown",
   "id": "89254b80",
   "metadata": {},
   "source": [
    "## The building blocks\n",
    "The building blocks of a relationship are entities, relationship sets, and crows foot notations"
   ]
  },
  {
   "cell_type": "markdown",
   "id": "ee7151db",
   "metadata": {},
   "source": [
    "## Relationships Types\n",
    "Relationships can be one-to-one, one-to-many, or many-to-many."
   ]
  },
  {
   "cell_type": "markdown",
   "id": "0e5c7038",
   "metadata": {},
   "source": [
    "## Data types\n",
    "Data types define the type of data that can be stored in a column and can include character strings, numeric values, dates/times, Boolean values and more."
   ]
  },
  {
   "cell_type": "markdown",
   "id": "155acf23",
   "metadata": {},
   "source": [
    "## Advantages of using the correct data type\n",
    "The advantages of using the correct data type for a column are data integrity, data sorting, range selection, data calculations, and the of standard functions."
   ]
  },
  {
   "cell_type": "markdown",
   "id": "cad4b6dd",
   "metadata": {},
   "source": [
    "## Relation parts\n",
    "In a relational model, a relation is made up of two parts: A relation schema specifying the name of a relation and the attributes and a relation instance, which is a table made up of the attributes, or columns, and the tuples, or rows.\n",
    "\n",
    "Degree refers to the number of attributes, or columns, in a relation. \n",
    "\n",
    "Cardinality refers to the number of tuples, or rows in a relation. "
   ]
  }
 ],
 "metadata": {
  "kernelspec": {
   "display_name": "Python 3",
   "language": "python",
   "name": "python3"
  },
  "language_info": {
   "codemirror_mode": {
    "name": "ipython",
    "version": 3
   },
   "file_extension": ".py",
   "mimetype": "text/x-python",
   "name": "python",
   "nbconvert_exporter": "python",
   "pygments_lexer": "ipython3",
   "version": "3.8.0"
  }
 },
 "nbformat": 4,
 "nbformat_minor": 5
}
