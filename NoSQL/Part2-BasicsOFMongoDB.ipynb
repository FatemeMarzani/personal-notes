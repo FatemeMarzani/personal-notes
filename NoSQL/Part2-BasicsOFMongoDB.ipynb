{
 "cells": [
  {
   "cell_type": "markdown",
   "id": "48859ead",
   "metadata": {},
   "source": [
    "# Introduction to NoSQL Databases by IBM\n",
    "Link to the course: [https://www.coursera.org/learn/introduction-to-nosql-databases](https://www.coursera.org/learn/introduction-to-nosql-databases)\n",
    "# Week 2 - Basics of MongoDB"
   ]
  },
  {
   "cell_type": "markdown",
   "id": "4f54e695",
   "metadata": {},
   "source": [
    "MongoDB is a document and NoSQL database. \n",
    "\n",
    "It is easy to access by **indexing.** \n",
    "\n",
    "It supports **various data types**, including dates and numbers. \n",
    "\n",
    "The database schema can be **flexible** when working with MongoDB.  \n",
    "\n",
    "You can change the database schema as needed without involving complex data definition language statements. \n",
    "\n",
    "Complex data analysis can be done on the server using **Aggregation Pipelines.** \n",
    "\n",
    "The **scalability** MongoDB provides makes it easier to work across the globe. \n",
    "\n",
    "MongoDB enables you to perform **real-time analysis** on your data."
   ]
  },
  {
   "cell_type": "markdown",
   "id": "2d27c294",
   "metadata": {},
   "source": [
    "The Mongo shell is an **interactive** command line tool provided by MongoDB to interact with your databases. \n",
    "\n",
    "Indexes help quickly locate data without looking for it everywhere. \n",
    "\n",
    "MongoDB stores data being indexed on the index entry and a location of the document on disk.  \n",
    "\n",
    "Using an aggregation framework, you can perform complex analysis on the data in MongoDB. \n",
    "\n",
    "You can build your aggregation process in stages such as match, group, project, and sort. \n",
    "\n",
    "**Replication** is the duplication of data and any changes made to the data. \n",
    "\n",
    "Replication provides **fault tolerance, redundancy, and high availability** for your data. \n",
    "\n",
    "For growing data sets, you can use **sharding** to scale horizontally. \n",
    "\n",
    "MongoClient is a class that helps you interact with MongoDB. \n",
    "\n"
   ]
  }
 ],
 "metadata": {
  "kernelspec": {
   "display_name": "Python 3",
   "language": "python",
   "name": "python3"
  },
  "language_info": {
   "codemirror_mode": {
    "name": "ipython",
    "version": 3
   },
   "file_extension": ".py",
   "mimetype": "text/x-python",
   "name": "python",
   "nbconvert_exporter": "python",
   "pygments_lexer": "ipython3",
   "version": "3.8.0"
  }
 },
 "nbformat": 4,
 "nbformat_minor": 5
}
